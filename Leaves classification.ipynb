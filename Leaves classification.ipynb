{
  "nbformat": 4,
  "nbformat_minor": 0,
  "metadata": {
    "colab": {
      "name": "Assi3_CV.ipynb",
      "provenance": [],
      "collapsed_sections": []
    },
    "kernelspec": {
      "display_name": "Python 3",
      "name": "python3"
    },
    "language_info": {
      "name": "python"
    }
  },
  "cells": [
    {
      "cell_type": "markdown",
      "metadata": {
        "id": "JRmo7cGrLjBJ"
      },
      "source": [
        "# Load data"
      ]
    },
    {
      "cell_type": "code",
      "metadata": {
        "id": "i9C__8HDaZqz"
      },
      "source": [
        "import os\n",
        "import numpy as np\n",
        "from numpy import asarray\n",
        "from skimage.io import imread, imshow\n",
        "from skimage.transform import resize\n",
        "\n",
        "def read_img(p):\n",
        "        im = []\n",
        "\n",
        "        foldersname = ['1','2','3','4','6']\n",
        "        for foldername in foldersname:\n",
        "                path = p+\"/\"+foldername\n",
        "                for filename in os.listdir(path):\n",
        "                    if filename.endswith(\".png\"):\n",
        "                        image = imread(path+\"/\"+filename)\n",
        "                        image = resize(image,(32,32))\n",
        "                        data = np.array(image)\n",
        "                        im.append(data)\n",
        "                        continue\n",
        "                    else:\n",
        "                        continue\n",
        "        return im"
      ],
      "execution_count": null,
      "outputs": []
    },
    {
      "cell_type": "code",
      "metadata": {
        "id": "mje_k5dvjxVK"
      },
      "source": [
        "train = read_img(p=\"/content/drive/MyDrive/assi3_CV/training\")\n",
        "train = np.array(train)\n",
        "\n",
        "test = read_img(p=\"/content/drive/MyDrive/assi3_CV/testing\")\n",
        "test = np.array(test)\n",
        "\n",
        "tr_class1 = [0]*180\n",
        "tr_class2 = [1]*180\n",
        "tr_class3 = [2]*180\n",
        "tr_class4 = [3]*180\n",
        "tr_class5 = [4]*180\n",
        "\n",
        "train_labels = tr_class1 + tr_class2 + tr_class3 + tr_class4 + tr_class5\n",
        "train_labels = np.array(train_labels)\n",
        "\n",
        "\n",
        "te_class1 = [0]*20\n",
        "te_class2 = [1]*20\n",
        "te_class3 = [2]*20\n",
        "te_class4 = [3]*20\n",
        "te_class5 = [4]*20\n",
        "\n",
        "test_labels = te_class1 + te_class2 + te_class3 + te_class4 + te_class5\n",
        "test_labels = np.array(test_labels)\n",
        "\n"
      ],
      "execution_count": null,
      "outputs": []
    },
    {
      "cell_type": "markdown",
      "metadata": {
        "id": "CU5eMCymL00h"
      },
      "source": [
        "# Use Vgg16 (two bolcks)"
      ]
    },
    {
      "cell_type": "code",
      "metadata": {
        "id": "IWMexYOuo3Tk"
      },
      "source": [
        "from tensorflow.keras.applications import VGG16\n",
        "from tensorflow.keras.applications.vgg16 import preprocess_input\n",
        "from keras.models import Sequential\n",
        "import tensorflow\n",
        "vgg_model = VGG16(weights='imagenet',\n",
        "                  include_top=False,\n",
        "                  input_shape=(32, 32, 3))\n",
        "\n",
        "vgg_model.trainable = False ## Not trainable weights\n",
        "\n",
        "model = Sequential()\n",
        "#add vgg layer (inputLayer, block1, block2)\n",
        "for layer in vgg_model.layers[:7]:   \n",
        "         model.add(layer)\n"
      ],
      "execution_count": null,
      "outputs": []
    },
    {
      "cell_type": "code",
      "metadata": {
        "colab": {
          "base_uri": "https://localhost:8080/"
        },
        "id": "N6XLW_iJ_-38",
        "outputId": "cc3799a7-7825-4071-8417-36a6738a30de"
      },
      "source": [
        "\n",
        "model.summary()"
      ],
      "execution_count": null,
      "outputs": [
        {
          "output_type": "stream",
          "name": "stdout",
          "text": [
            "Model: \"sequential\"\n",
            "_________________________________________________________________\n",
            "Layer (type)                 Output Shape              Param #   \n",
            "=================================================================\n",
            "block1_conv1 (Conv2D)        (None, 32, 32, 64)        1792      \n",
            "_________________________________________________________________\n",
            "block1_conv2 (Conv2D)        (None, 32, 32, 64)        36928     \n",
            "_________________________________________________________________\n",
            "block1_pool (MaxPooling2D)   (None, 16, 16, 64)        0         \n",
            "_________________________________________________________________\n",
            "block2_conv1 (Conv2D)        (None, 16, 16, 128)       73856     \n",
            "_________________________________________________________________\n",
            "block2_conv2 (Conv2D)        (None, 16, 16, 128)       147584    \n",
            "_________________________________________________________________\n",
            "block2_pool (MaxPooling2D)   (None, 8, 8, 128)         0         \n",
            "=================================================================\n",
            "Total params: 260,160\n",
            "Trainable params: 0\n",
            "Non-trainable params: 260,160\n",
            "_________________________________________________________________\n"
          ]
        }
      ]
    },
    {
      "cell_type": "markdown",
      "metadata": {
        "id": "3jkmsfyqPtd4"
      },
      "source": [
        "# Classification Network"
      ]
    },
    {
      "cell_type": "markdown",
      "metadata": {
        "id": "3aDs8so5ML4K"
      },
      "source": [
        "# Add FC layers\n"
      ]
    },
    {
      "cell_type": "code",
      "metadata": {
        "id": "H_gxnld4oEYD"
      },
      "source": [
        "from tensorflow.keras import layers, models\n",
        "from keras.layers import Conv2D\n",
        "\n",
        "inputs = tensorflow.keras.Input(shape=(32,32,3))\n",
        "x = model(inputs,training=False)\n",
        "x = tensorflow.keras.layers.Flatten()(x)\n",
        "x = tensorflow.keras.layers.Dense(200, activation='relu')(x)\n",
        "x = tensorflow.keras.layers.Dense(55, input_dim=14, kernel_initializer='uniform')(x)\n",
        "x = tensorflow.keras.layers.Activation('tanh')(x)\n",
        "x = tensorflow.keras.layers.Dense(5, kernel_initializer='uniform')(x)\n",
        "x = tensorflow.keras.layers.Dense(5, activation='softmax')(x)\n",
        "model = tensorflow.keras.Model(inputs,x)"
      ],
      "execution_count": null,
      "outputs": []
    },
    {
      "cell_type": "code",
      "metadata": {
        "colab": {
          "base_uri": "https://localhost:8080/"
        },
        "id": "y89liCKAAa8i",
        "outputId": "940fa547-a8ad-4eae-8a5e-839e907136c3"
      },
      "source": [
        "model.summary()"
      ],
      "execution_count": null,
      "outputs": [
        {
          "output_type": "stream",
          "name": "stdout",
          "text": [
            "Model: \"model\"\n",
            "_________________________________________________________________\n",
            "Layer (type)                 Output Shape              Param #   \n",
            "=================================================================\n",
            "input_2 (InputLayer)         [(None, 32, 32, 3)]       0         \n",
            "_________________________________________________________________\n",
            "sequential (Sequential)      (None, 8, 8, 128)         260160    \n",
            "_________________________________________________________________\n",
            "flatten (Flatten)            (None, 8192)              0         \n",
            "_________________________________________________________________\n",
            "dense (Dense)                (None, 200)               1638600   \n",
            "_________________________________________________________________\n",
            "dense_1 (Dense)              (None, 55)                11055     \n",
            "_________________________________________________________________\n",
            "activation (Activation)      (None, 55)                0         \n",
            "_________________________________________________________________\n",
            "dense_2 (Dense)              (None, 5)                 280       \n",
            "_________________________________________________________________\n",
            "dense_3 (Dense)              (None, 5)                 30        \n",
            "=================================================================\n",
            "Total params: 1,910,125\n",
            "Trainable params: 1,649,965\n",
            "Non-trainable params: 260,160\n",
            "_________________________________________________________________\n"
          ]
        }
      ]
    },
    {
      "cell_type": "markdown",
      "metadata": {
        "id": "IcGH-ioEMSHA"
      },
      "source": [
        "# Train model"
      ]
    },
    {
      "cell_type": "code",
      "metadata": {
        "colab": {
          "base_uri": "https://localhost:8080/"
        },
        "id": "2_2wgHUbz4uM",
        "outputId": "77f8d473-ee70-4ddc-edad-486f85cac33d"
      },
      "source": [
        "from tensorflow.keras.callbacks import EarlyStopping\n",
        "optimizer = tensorflow.keras.optimizers.SGD(lr=0.001)\n",
        "model.compile(\n",
        "    optimizer=optimizer,\n",
        "    loss='sparse_categorical_crossentropy',\n",
        "    metrics=['accuracy'],\n",
        ")\n",
        "from sklearn.model_selection import train_test_split\n",
        "X_train, X_val, y_train, y_val = train_test_split(train, train_labels, test_size=0.33, random_state=42,stratify=train_labels)\n",
        "\n",
        "\n",
        "history = model.fit(X_train, y_train, epochs=30, batch_size=32,validation_data=(X_val,y_val))\n"
      ],
      "execution_count": null,
      "outputs": [
        {
          "output_type": "stream",
          "name": "stderr",
          "text": [
            "/usr/local/lib/python3.7/dist-packages/keras/optimizer_v2/optimizer_v2.py:356: UserWarning: The `lr` argument is deprecated, use `learning_rate` instead.\n",
            "  \"The `lr` argument is deprecated, use `learning_rate` instead.\")\n"
          ]
        },
        {
          "output_type": "stream",
          "name": "stdout",
          "text": [
            "Epoch 1/30\n",
            "19/19 [==============================] - 3s 143ms/step - loss: 1.6054 - accuracy: 0.2239 - val_loss: 1.5949 - val_accuracy: 0.2626\n",
            "Epoch 2/30\n",
            "19/19 [==============================] - 3s 134ms/step - loss: 1.5908 - accuracy: 0.2554 - val_loss: 1.5930 - val_accuracy: 0.2626\n",
            "Epoch 3/30\n",
            "19/19 [==============================] - 2s 133ms/step - loss: 1.5811 - accuracy: 0.2720 - val_loss: 1.5912 - val_accuracy: 0.2660\n",
            "Epoch 4/30\n",
            "19/19 [==============================] - 2s 133ms/step - loss: 1.5738 - accuracy: 0.2769 - val_loss: 1.5882 - val_accuracy: 0.2795\n",
            "Epoch 5/30\n",
            "19/19 [==============================] - 2s 131ms/step - loss: 1.5639 - accuracy: 0.3134 - val_loss: 1.5854 - val_accuracy: 0.2862\n",
            "Epoch 6/30\n",
            "19/19 [==============================] - 2s 133ms/step - loss: 1.5562 - accuracy: 0.3582 - val_loss: 1.5831 - val_accuracy: 0.2761\n",
            "Epoch 7/30\n",
            "19/19 [==============================] - 2s 133ms/step - loss: 1.5466 - accuracy: 0.3449 - val_loss: 1.5793 - val_accuracy: 0.2761\n",
            "Epoch 8/30\n",
            "19/19 [==============================] - 2s 132ms/step - loss: 1.5379 - accuracy: 0.3864 - val_loss: 1.5759 - val_accuracy: 0.2828\n",
            "Epoch 9/30\n",
            "19/19 [==============================] - 2s 133ms/step - loss: 1.5295 - accuracy: 0.4096 - val_loss: 1.5740 - val_accuracy: 0.2795\n",
            "Epoch 10/30\n",
            "19/19 [==============================] - 2s 134ms/step - loss: 1.5205 - accuracy: 0.3997 - val_loss: 1.5704 - val_accuracy: 0.2862\n",
            "Epoch 11/30\n",
            "19/19 [==============================] - 2s 130ms/step - loss: 1.5111 - accuracy: 0.4196 - val_loss: 1.5685 - val_accuracy: 0.2963\n",
            "Epoch 12/30\n",
            "19/19 [==============================] - 2s 131ms/step - loss: 1.5008 - accuracy: 0.4295 - val_loss: 1.5643 - val_accuracy: 0.2828\n",
            "Epoch 13/30\n",
            "19/19 [==============================] - 2s 133ms/step - loss: 1.4915 - accuracy: 0.4544 - val_loss: 1.5623 - val_accuracy: 0.2963\n",
            "Epoch 14/30\n",
            "19/19 [==============================] - 2s 133ms/step - loss: 1.4814 - accuracy: 0.4760 - val_loss: 1.5591 - val_accuracy: 0.2828\n",
            "Epoch 15/30\n",
            "19/19 [==============================] - 3s 135ms/step - loss: 1.4723 - accuracy: 0.4561 - val_loss: 1.5558 - val_accuracy: 0.3064\n",
            "Epoch 16/30\n",
            "19/19 [==============================] - 3s 135ms/step - loss: 1.4594 - accuracy: 0.4876 - val_loss: 1.5564 - val_accuracy: 0.2997\n",
            "Epoch 17/30\n",
            "19/19 [==============================] - 2s 134ms/step - loss: 1.4506 - accuracy: 0.4842 - val_loss: 1.5498 - val_accuracy: 0.3064\n",
            "Epoch 18/30\n",
            "19/19 [==============================] - 3s 135ms/step - loss: 1.4392 - accuracy: 0.4892 - val_loss: 1.5474 - val_accuracy: 0.3064\n",
            "Epoch 19/30\n",
            "19/19 [==============================] - 3s 135ms/step - loss: 1.4299 - accuracy: 0.5075 - val_loss: 1.5438 - val_accuracy: 0.3064\n",
            "Epoch 20/30\n",
            "19/19 [==============================] - 2s 133ms/step - loss: 1.4178 - accuracy: 0.5191 - val_loss: 1.5388 - val_accuracy: 0.3030\n",
            "Epoch 21/30\n",
            "19/19 [==============================] - 2s 133ms/step - loss: 1.4070 - accuracy: 0.5191 - val_loss: 1.5368 - val_accuracy: 0.2997\n",
            "Epoch 22/30\n",
            "19/19 [==============================] - 2s 132ms/step - loss: 1.3916 - accuracy: 0.5340 - val_loss: 1.5378 - val_accuracy: 0.3165\n",
            "Epoch 23/30\n",
            "19/19 [==============================] - 3s 134ms/step - loss: 1.3825 - accuracy: 0.5307 - val_loss: 1.5308 - val_accuracy: 0.3199\n",
            "Epoch 24/30\n",
            "19/19 [==============================] - 2s 134ms/step - loss: 1.3695 - accuracy: 0.5406 - val_loss: 1.5259 - val_accuracy: 0.3064\n",
            "Epoch 25/30\n",
            "19/19 [==============================] - 2s 133ms/step - loss: 1.3599 - accuracy: 0.5423 - val_loss: 1.5227 - val_accuracy: 0.3131\n",
            "Epoch 26/30\n",
            "19/19 [==============================] - 3s 134ms/step - loss: 1.3475 - accuracy: 0.5605 - val_loss: 1.5183 - val_accuracy: 0.3131\n",
            "Epoch 27/30\n",
            "19/19 [==============================] - 3s 135ms/step - loss: 1.3337 - accuracy: 0.5556 - val_loss: 1.5156 - val_accuracy: 0.3165\n",
            "Epoch 28/30\n",
            "19/19 [==============================] - 3s 135ms/step - loss: 1.3219 - accuracy: 0.5605 - val_loss: 1.5139 - val_accuracy: 0.3199\n",
            "Epoch 29/30\n",
            "19/19 [==============================] - 2s 130ms/step - loss: 1.3095 - accuracy: 0.5622 - val_loss: 1.5074 - val_accuracy: 0.3300\n",
            "Epoch 30/30\n",
            "19/19 [==============================] - 2s 134ms/step - loss: 1.2956 - accuracy: 0.5771 - val_loss: 1.5055 - val_accuracy: 0.3367\n"
          ]
        }
      ]
    },
    {
      "cell_type": "markdown",
      "metadata": {
        "id": "fFcXOPmMbZ9a"
      },
      "source": [
        "## Model evaluation using traing data"
      ]
    },
    {
      "cell_type": "code",
      "metadata": {
        "colab": {
          "base_uri": "https://localhost:8080/"
        },
        "id": "hmmvq6SPa0uD",
        "outputId": "e7d41fec-1442-4fb9-f4df-78f85a470694"
      },
      "source": [
        "from sklearn.metrics import classification_report, confusion_matrix\n",
        "Y_train_pred = np.argmax(model.predict(X_train),axis=1)\n",
        "print('Confusion Matrix')\n",
        "print(confusion_matrix(y_train, Y_train_pred))"
      ],
      "execution_count": null,
      "outputs": [
        {
          "output_type": "stream",
          "name": "stdout",
          "text": [
            "Confusion Matrix\n",
            "[[118   0   1   0   1]\n",
            " [ 18  76  21   2   4]\n",
            " [ 17  19  67  17   1]\n",
            " [ 12  10  23  67   8]\n",
            " [ 41  11   5  28  36]]\n"
          ]
        }
      ]
    },
    {
      "cell_type": "markdown",
      "metadata": {
        "id": "sXFpAMUZMcGg"
      },
      "source": [
        "## Model evaluation using validation data"
      ]
    },
    {
      "cell_type": "code",
      "metadata": {
        "colab": {
          "base_uri": "https://localhost:8080/"
        },
        "id": "w-bzQwnbHjP6",
        "outputId": "f8149386-1b7f-4f8d-bcae-e481f0ef5adc"
      },
      "source": [
        "from sklearn.metrics import classification_report, confusion_matrix\n",
        "Y_val_pred = np.argmax(model.predict(X_val),axis=1)\n",
        "print('Confusion Matrix')\n",
        "print(confusion_matrix(y_val, Y_val_pred))\n",
        "print('Classification Report')\n",
        "target_names = ['1', '2', '3','4','6']\n",
        "print(classification_report(y_val, Y_val_pred, target_names=target_names))"
      ],
      "execution_count": null,
      "outputs": [
        {
          "output_type": "stream",
          "name": "stdout",
          "text": [
            "Confusion Matrix\n",
            "[[41  3  9  3  4]\n",
            " [17 13 17  9  3]\n",
            " [17  9 14 15  4]\n",
            " [ 9  6 12 22 11]\n",
            " [19  8  6 16 10]]\n",
            "Classification Report\n",
            "              precision    recall  f1-score   support\n",
            "\n",
            "           1       0.40      0.68      0.50        60\n",
            "           2       0.33      0.22      0.27        59\n",
            "           3       0.24      0.24      0.24        59\n",
            "           4       0.34      0.37      0.35        60\n",
            "           6       0.31      0.17      0.22        59\n",
            "\n",
            "    accuracy                           0.34       297\n",
            "   macro avg       0.32      0.34      0.32       297\n",
            "weighted avg       0.33      0.34      0.32       297\n",
            "\n"
          ]
        }
      ]
    },
    {
      "cell_type": "markdown",
      "metadata": {
        "id": "zeecXM7MDz1B"
      },
      "source": [
        "# Train model on all traing data"
      ]
    },
    {
      "cell_type": "code",
      "metadata": {
        "colab": {
          "base_uri": "https://localhost:8080/"
        },
        "id": "HanN2Doopo_G",
        "outputId": "fd881e86-414b-4f3f-e88d-41db96678d42"
      },
      "source": [
        "optimizer = tensorflow.keras.optimizers.SGD(lr=0.001)\n",
        "model.compile(\n",
        "    optimizer=optimizer,\n",
        "    loss='sparse_categorical_crossentropy',\n",
        "    metrics=['accuracy'],\n",
        ")\n",
        "\n",
        "\n",
        "history_t = model.fit(train, train_labels, epochs=30, batch_size=32)\n"
      ],
      "execution_count": null,
      "outputs": [
        {
          "output_type": "stream",
          "name": "stdout",
          "text": [
            "Epoch 1/30\n"
          ]
        },
        {
          "output_type": "stream",
          "name": "stderr",
          "text": [
            "/usr/local/lib/python3.7/dist-packages/keras/optimizer_v2/optimizer_v2.py:356: UserWarning: The `lr` argument is deprecated, use `learning_rate` instead.\n",
            "  \"The `lr` argument is deprecated, use `learning_rate` instead.\")\n"
          ]
        },
        {
          "output_type": "stream",
          "name": "stdout",
          "text": [
            "29/29 [==============================] - 3s 88ms/step - loss: 1.3551 - accuracy: 0.4944\n",
            "Epoch 2/30\n",
            "29/29 [==============================] - 3s 87ms/step - loss: 1.3471 - accuracy: 0.5067\n",
            "Epoch 3/30\n",
            "29/29 [==============================] - 3s 87ms/step - loss: 1.3312 - accuracy: 0.5144\n",
            "Epoch 4/30\n",
            "29/29 [==============================] - 3s 87ms/step - loss: 1.3076 - accuracy: 0.5378\n",
            "Epoch 5/30\n",
            "29/29 [==============================] - 3s 87ms/step - loss: 1.2953 - accuracy: 0.5544\n",
            "Epoch 6/30\n",
            "29/29 [==============================] - 3s 87ms/step - loss: 1.2741 - accuracy: 0.5600\n",
            "Epoch 7/30\n",
            "29/29 [==============================] - 3s 88ms/step - loss: 1.2634 - accuracy: 0.5533\n",
            "Epoch 8/30\n",
            "29/29 [==============================] - 3s 88ms/step - loss: 1.2424 - accuracy: 0.5733\n",
            "Epoch 9/30\n",
            "29/29 [==============================] - 3s 87ms/step - loss: 1.2257 - accuracy: 0.5767\n",
            "Epoch 10/30\n",
            "29/29 [==============================] - 3s 88ms/step - loss: 1.2118 - accuracy: 0.6033\n",
            "Epoch 11/30\n",
            "29/29 [==============================] - 3s 88ms/step - loss: 1.1876 - accuracy: 0.6211\n",
            "Epoch 12/30\n",
            "29/29 [==============================] - 3s 88ms/step - loss: 1.1780 - accuracy: 0.6067\n",
            "Epoch 13/30\n",
            "29/29 [==============================] - 3s 89ms/step - loss: 1.1559 - accuracy: 0.6278\n",
            "Epoch 14/30\n",
            "29/29 [==============================] - 3s 87ms/step - loss: 1.1504 - accuracy: 0.6322\n",
            "Epoch 15/30\n",
            "29/29 [==============================] - 3s 87ms/step - loss: 1.1174 - accuracy: 0.6578\n",
            "Epoch 16/30\n",
            "29/29 [==============================] - 3s 88ms/step - loss: 1.1019 - accuracy: 0.6611\n",
            "Epoch 17/30\n",
            "29/29 [==============================] - 3s 88ms/step - loss: 1.0909 - accuracy: 0.6600\n",
            "Epoch 18/30\n",
            "29/29 [==============================] - 3s 88ms/step - loss: 1.0627 - accuracy: 0.6800\n",
            "Epoch 19/30\n",
            "29/29 [==============================] - 3s 88ms/step - loss: 1.0419 - accuracy: 0.7022\n",
            "Epoch 20/30\n",
            "29/29 [==============================] - 2s 86ms/step - loss: 1.0271 - accuracy: 0.7089\n",
            "Epoch 21/30\n",
            "29/29 [==============================] - 3s 88ms/step - loss: 1.0118 - accuracy: 0.7000\n",
            "Epoch 22/30\n",
            "29/29 [==============================] - 3s 88ms/step - loss: 0.9925 - accuracy: 0.7178\n",
            "Epoch 23/30\n",
            "29/29 [==============================] - 3s 87ms/step - loss: 0.9710 - accuracy: 0.7367\n",
            "Epoch 24/30\n",
            "29/29 [==============================] - 3s 86ms/step - loss: 0.9577 - accuracy: 0.7344\n",
            "Epoch 25/30\n",
            "29/29 [==============================] - 3s 89ms/step - loss: 0.9457 - accuracy: 0.7456\n",
            "Epoch 26/30\n",
            "29/29 [==============================] - 3s 88ms/step - loss: 0.9174 - accuracy: 0.7533\n",
            "Epoch 27/30\n",
            "29/29 [==============================] - 3s 88ms/step - loss: 0.9065 - accuracy: 0.7511\n",
            "Epoch 28/30\n",
            "29/29 [==============================] - 3s 88ms/step - loss: 0.8810 - accuracy: 0.7789\n",
            "Epoch 29/30\n",
            "29/29 [==============================] - 3s 88ms/step - loss: 0.8743 - accuracy: 0.7678\n",
            "Epoch 30/30\n",
            "29/29 [==============================] - 3s 88ms/step - loss: 0.8599 - accuracy: 0.7722\n"
          ]
        }
      ]
    },
    {
      "cell_type": "markdown",
      "metadata": {
        "id": "YsaIS0vnMwpB"
      },
      "source": [
        "##Model evaluation using testing data"
      ]
    },
    {
      "cell_type": "code",
      "metadata": {
        "colab": {
          "base_uri": "https://localhost:8080/"
        },
        "id": "0SpB1oEYSeXT",
        "outputId": "767c66d7-af58-46f9-b6ee-aa4f7842b034"
      },
      "source": [
        "\n",
        "Y_pred = np.argmax(model.predict(test),axis=1)\n",
        "print('Confusion Matrix')\n",
        "print(confusion_matrix(test_labels, Y_pred))\n",
        "print('Classification Report')\n",
        "target_names = ['1', '2', '3','4','6']\n",
        "print(classification_report(test_labels, Y_pred, target_names=target_names))\n"
      ],
      "execution_count": null,
      "outputs": [
        {
          "output_type": "stream",
          "name": "stdout",
          "text": [
            "Confusion Matrix\n",
            "[[10  2  7  0  1]\n",
            " [ 3  7  9  1  0]\n",
            " [ 3  1 12  4  0]\n",
            " [ 1  3  7  9  0]\n",
            " [ 1  0  7 12  0]]\n",
            "Classification Report\n",
            "              precision    recall  f1-score   support\n",
            "\n",
            "           1       0.56      0.50      0.53        20\n",
            "           2       0.54      0.35      0.42        20\n",
            "           3       0.29      0.60      0.39        20\n",
            "           4       0.35      0.45      0.39        20\n",
            "           6       0.00      0.00      0.00        20\n",
            "\n",
            "    accuracy                           0.38       100\n",
            "   macro avg       0.35      0.38      0.35       100\n",
            "weighted avg       0.35      0.38      0.35       100\n",
            "\n"
          ]
        }
      ]
    },
    {
      "cell_type": "markdown",
      "metadata": {
        "id": "QV51-VJLM0QY"
      },
      "source": [
        "#Learning curves"
      ]
    },
    {
      "cell_type": "code",
      "metadata": {
        "colab": {
          "base_uri": "https://localhost:8080/",
          "height": 295
        },
        "id": "_vJxXTnmFPms",
        "outputId": "1f27c637-e7b2-4c1c-f618-17b6871f7e0e"
      },
      "source": [
        "import matplotlib.pyplot as plt\n",
        "\n",
        "k = ''\n",
        "if 'accuracy' in history.history :\n",
        "    k = 'accuracy'    \n",
        "\n",
        "if 'acc' in history.history :\n",
        "    k = 'acc'\n",
        "    \n",
        "if k != '' :    \n",
        "    plt.plot(history.history[k])\n",
        "    plt.plot(history.history['val_'+k])\n",
        "    plt.title('Model Accuracy')\n",
        "    plt.ylabel('Accuracy')\n",
        "    plt.xlabel('Epoch')\n",
        "    plt.legend(['train', 'val'], loc='upper left')\n",
        "    plt.show()\n"
      ],
      "execution_count": null,
      "outputs": [
        {
          "output_type": "display_data",
          "data": {
            "image/png": "[encoded data removed]",
            "text/plain": [
              "<Figure size 432x288 with 1 Axes>"
            ]
          },
          "metadata": {
            "needs_background": "light"
          }
        }
      ]
    },
    {
      "cell_type": "code",
      "metadata": {
        "colab": {
          "base_uri": "https://localhost:8080/",
          "height": 295
        },
        "id": "co2CHZrCLYAj",
        "outputId": "bff6ef6b-010f-41f1-d82a-ab75d0c4b0a8"
      },
      "source": [
        "plt.plot(history.history['loss'])\n",
        "plt.plot(history.history['val_loss'])\n",
        "plt.title('Model loss')\n",
        "plt.ylabel('Loss')\n",
        "plt.xlabel('Epoch')\n",
        "plt.legend(['train', 'val'], loc='upper left')\n",
        "plt.show()\n",
        "\n"
      ],
      "execution_count": null,
      "outputs": [
        {
          "output_type": "display_data",
          "data": {
            "image/png": "[encoded data removed]",
            "text/plain": [
              "<Figure size 432x288 with 1 Axes>"
            ]
          },
          "metadata": {
            "needs_background": "light"
          }
        }
      ]
    },
    {
      "cell_type": "markdown",
      "metadata": {
        "id": "vJACwuVUPMI4"
      },
      "source": [
        "# Regression Network"
      ]
    },
    {
      "cell_type": "markdown",
      "metadata": {
        "id": "vig_ncKJD93a"
      },
      "source": [
        "## Add FC layers"
      ]
    },
    {
      "cell_type": "code",
      "metadata": {
        "id": "Hu8hvZQeR69R"
      },
      "source": [
        "tr_class1 = [1]*180\n",
        "tr_class2 = [2]*180\n",
        "tr_class3 = [3]*180\n",
        "tr_class4 = [4]*180\n",
        "tr_class5 = [6]*180\n",
        "\n",
        "train_labels = tr_class1 + tr_class2 + tr_class3 + tr_class4 + tr_class5\n",
        "train_labels = np.array(train_labels)\n",
        "\n",
        "\n",
        "te_class1 = [1]*20\n",
        "te_class2 = [2]*20\n",
        "te_class3 = [3]*20\n",
        "te_class4 = [4]*20\n",
        "te_class5 = [6]*20\n",
        "\n",
        "test_labels = te_class1 + te_class2 + te_class3 + te_class4 + te_class5\n",
        "test_labels = np.array(test_labels)\n"
      ],
      "execution_count": null,
      "outputs": []
    },
    {
      "cell_type": "code",
      "metadata": {
        "id": "EaXTV0BLsyVK"
      },
      "source": [
        "from tensorflow.keras.applications import VGG16\n",
        "from tensorflow.keras.applications.vgg16 import preprocess_input\n",
        "from keras.models import Sequential\n",
        "import tensorflow\n",
        "vgg_model = VGG16(weights='imagenet',\n",
        "                  include_top=False,\n",
        "                  input_shape=(32, 32, 3))\n",
        "\n",
        "vgg_model.trainable = False ## Not trainable weights\n",
        "\n",
        "model2 = Sequential()\n",
        "#add vgg layer (inputLayer, block1, block2)\n",
        "for layer in vgg_model.layers[:7]:   \n",
        "         model2.add(layer)\n"
      ],
      "execution_count": null,
      "outputs": []
    },
    {
      "cell_type": "code",
      "metadata": {
        "id": "glkQxqTXQC80"
      },
      "source": [
        "from tensorflow.keras import layers, models\n",
        "\n",
        "inputs_r = tensorflow.keras.Input(shape=(32,32,3))\n",
        "r = model2(inputs_r,training=False)\n",
        "r = tensorflow.keras.layers.Flatten()(r)\n",
        "r = tensorflow.keras.layers.Dense(200, activation='relu')(r)\n",
        "r = tensorflow.keras.layers.Dense(50, input_dim=14, kernel_initializer='uniform')(r)\n",
        "r = tensorflow.keras.layers.Activation('tanh')(r)\n",
        "r = tensorflow.keras.layers.Dense(1, activation='relu6')(r) \n",
        "model2 = tensorflow.keras.Model(inputs_r,r)"
      ],
      "execution_count": null,
      "outputs": []
    },
    {
      "cell_type": "markdown",
      "metadata": {
        "id": "dyWNBHQMEQSl"
      },
      "source": [
        "## Train model "
      ]
    },
    {
      "cell_type": "code",
      "metadata": {
        "colab": {
          "base_uri": "https://localhost:8080/"
        },
        "id": "0HyjPDsCOr8o",
        "outputId": "07a7424c-9059-4ca4-b42f-febe01e85553"
      },
      "source": [
        "optimizer = tensorflow.keras.optimizers.SGD(lr=0.001)\n",
        "model2.compile(\n",
        "    optimizer=optimizer,\n",
        "    loss='mean_squared_error',\n",
        "    metrics=['mean_squared_error'],\n",
        ")\n",
        "from sklearn.model_selection import train_test_split\n",
        "X_train, X_val, y_train, y_val = train_test_split(train, train_labels, test_size=0.33, random_state=42,stratify=train_labels)\n",
        "\n",
        "history2 = model2.fit(X_train, y_train, epochs=30, batch_size=32,validation_data=(X_val,y_val))\n"
      ],
      "execution_count": null,
      "outputs": [
        {
          "output_type": "stream",
          "name": "stderr",
          "text": [
            "/usr/local/lib/python3.7/dist-packages/keras/optimizer_v2/optimizer_v2.py:356: UserWarning: The `lr` argument is deprecated, use `learning_rate` instead.\n",
            "  \"The `lr` argument is deprecated, use `learning_rate` instead.\")\n"
          ]
        },
        {
          "output_type": "stream",
          "name": "stdout",
          "text": [
            "Epoch 1/30\n",
            "19/19 [==============================] - 3s 142ms/step - loss: 3.3893 - mean_squared_error: 3.3893 - val_loss: 2.9127 - val_mean_squared_error: 2.9127\n",
            "Epoch 2/30\n",
            "19/19 [==============================] - 2s 133ms/step - loss: 2.8963 - mean_squared_error: 2.8963 - val_loss: 2.8995 - val_mean_squared_error: 2.8995\n",
            "Epoch 3/30\n",
            "19/19 [==============================] - 3s 135ms/step - loss: 2.8217 - mean_squared_error: 2.8217 - val_loss: 2.8855 - val_mean_squared_error: 2.8855\n",
            "Epoch 4/30\n",
            "19/19 [==============================] - 3s 134ms/step - loss: 2.6844 - mean_squared_error: 2.6844 - val_loss: 2.8840 - val_mean_squared_error: 2.8840\n",
            "Epoch 5/30\n",
            "19/19 [==============================] - 2s 134ms/step - loss: 2.6346 - mean_squared_error: 2.6346 - val_loss: 2.6055 - val_mean_squared_error: 2.6055\n",
            "Epoch 6/30\n",
            "19/19 [==============================] - 3s 134ms/step - loss: 2.4288 - mean_squared_error: 2.4288 - val_loss: 2.8737 - val_mean_squared_error: 2.8737\n",
            "Epoch 7/30\n",
            "19/19 [==============================] - 3s 134ms/step - loss: 2.2931 - mean_squared_error: 2.2931 - val_loss: 2.3841 - val_mean_squared_error: 2.3841\n",
            "Epoch 8/30\n",
            "19/19 [==============================] - 3s 134ms/step - loss: 2.4058 - mean_squared_error: 2.4058 - val_loss: 2.3093 - val_mean_squared_error: 2.3093\n",
            "Epoch 9/30\n",
            "19/19 [==============================] - 3s 134ms/step - loss: 2.1998 - mean_squared_error: 2.1998 - val_loss: 2.2820 - val_mean_squared_error: 2.2820\n",
            "Epoch 10/30\n",
            "19/19 [==============================] - 2s 134ms/step - loss: 2.1381 - mean_squared_error: 2.1381 - val_loss: 2.5001 - val_mean_squared_error: 2.5001\n",
            "Epoch 11/30\n",
            "19/19 [==============================] - 3s 135ms/step - loss: 1.9793 - mean_squared_error: 1.9793 - val_loss: 2.2199 - val_mean_squared_error: 2.2199\n",
            "Epoch 12/30\n",
            "19/19 [==============================] - 2s 134ms/step - loss: 1.8511 - mean_squared_error: 1.8511 - val_loss: 1.9526 - val_mean_squared_error: 1.9526\n",
            "Epoch 13/30\n",
            "19/19 [==============================] - 2s 132ms/step - loss: 1.6555 - mean_squared_error: 1.6555 - val_loss: 2.2991 - val_mean_squared_error: 2.2991\n",
            "Epoch 14/30\n",
            "19/19 [==============================] - 3s 134ms/step - loss: 1.6527 - mean_squared_error: 1.6527 - val_loss: 3.6354 - val_mean_squared_error: 3.6354\n",
            "Epoch 15/30\n",
            "19/19 [==============================] - 3s 134ms/step - loss: 1.7358 - mean_squared_error: 1.7358 - val_loss: 1.9267 - val_mean_squared_error: 1.9267\n",
            "Epoch 16/30\n",
            "19/19 [==============================] - 2s 131ms/step - loss: 1.6694 - mean_squared_error: 1.6694 - val_loss: 2.1385 - val_mean_squared_error: 2.1385\n",
            "Epoch 17/30\n",
            "19/19 [==============================] - 3s 135ms/step - loss: 1.5057 - mean_squared_error: 1.5057 - val_loss: 1.9842 - val_mean_squared_error: 1.9842\n",
            "Epoch 18/30\n",
            "19/19 [==============================] - 3s 135ms/step - loss: 1.3008 - mean_squared_error: 1.3008 - val_loss: 1.7812 - val_mean_squared_error: 1.7812\n",
            "Epoch 19/30\n",
            "19/19 [==============================] - 3s 134ms/step - loss: 1.3020 - mean_squared_error: 1.3020 - val_loss: 1.7890 - val_mean_squared_error: 1.7890\n",
            "Epoch 20/30\n",
            "19/19 [==============================] - 2s 132ms/step - loss: 1.0363 - mean_squared_error: 1.0363 - val_loss: 2.1790 - val_mean_squared_error: 2.1790\n",
            "Epoch 21/30\n",
            "19/19 [==============================] - 2s 134ms/step - loss: 1.6586 - mean_squared_error: 1.6586 - val_loss: 1.8577 - val_mean_squared_error: 1.8577\n",
            "Epoch 22/30\n",
            "19/19 [==============================] - 2s 133ms/step - loss: 1.1664 - mean_squared_error: 1.1664 - val_loss: 1.8921 - val_mean_squared_error: 1.8921\n",
            "Epoch 23/30\n",
            "19/19 [==============================] - 3s 134ms/step - loss: 1.1996 - mean_squared_error: 1.1996 - val_loss: 1.9823 - val_mean_squared_error: 1.9823\n",
            "Epoch 24/30\n",
            "19/19 [==============================] - 3s 135ms/step - loss: 0.9667 - mean_squared_error: 0.9667 - val_loss: 1.9076 - val_mean_squared_error: 1.9076\n",
            "Epoch 25/30\n",
            "19/19 [==============================] - 3s 134ms/step - loss: 0.9671 - mean_squared_error: 0.9671 - val_loss: 1.9433 - val_mean_squared_error: 1.9433\n",
            "Epoch 26/30\n",
            "19/19 [==============================] - 3s 134ms/step - loss: 0.7962 - mean_squared_error: 0.7962 - val_loss: 1.9963 - val_mean_squared_error: 1.9963\n",
            "Epoch 27/30\n",
            "19/19 [==============================] - 3s 135ms/step - loss: 0.8259 - mean_squared_error: 0.8259 - val_loss: 1.7854 - val_mean_squared_error: 1.7854\n",
            "Epoch 28/30\n",
            "19/19 [==============================] - 2s 134ms/step - loss: 0.7842 - mean_squared_error: 0.7842 - val_loss: 1.8896 - val_mean_squared_error: 1.8896\n",
            "Epoch 29/30\n",
            "19/19 [==============================] - 3s 134ms/step - loss: 0.7397 - mean_squared_error: 0.7397 - val_loss: 1.6660 - val_mean_squared_error: 1.6660\n",
            "Epoch 30/30\n",
            "19/19 [==============================] - 3s 134ms/step - loss: 0.7782 - mean_squared_error: 0.7782 - val_loss: 1.6899 - val_mean_squared_error: 1.6899\n"
          ]
        }
      ]
    },
    {
      "cell_type": "markdown",
      "metadata": {
        "id": "WhGXf0rGEXyH"
      },
      "source": [
        "## Evaluate the model"
      ]
    },
    {
      "cell_type": "code",
      "metadata": {
        "colab": {
          "base_uri": "https://localhost:8080/"
        },
        "id": "_QPFk93_tgaK",
        "outputId": "e10f620f-794c-481c-c71c-27062eeeffca"
      },
      "source": [
        "from sklearn.metrics import mean_squared_error\n",
        "\n",
        "Y_pred_val_l = model2.predict(X_val)\n",
        "print(\"The MSE loss = \",mean_squared_error(y_val,Y_pred_val_l))\n"
      ],
      "execution_count": null,
      "outputs": [
        {
          "output_type": "stream",
          "name": "stdout",
          "text": [
            "The MSE loss =  1.689900012416649\n"
          ]
        }
      ]
    },
    {
      "cell_type": "markdown",
      "metadata": {
        "id": "jyvecKsTEhX7"
      },
      "source": [
        "## Train model on all traing data"
      ]
    },
    {
      "cell_type": "code",
      "metadata": {
        "colab": {
          "base_uri": "https://localhost:8080/"
        },
        "id": "xVRGzZWWwQre",
        "outputId": "e9946b18-9ba0-4cac-fcdf-eb439f7a269a"
      },
      "source": [
        "optimizer = tensorflow.keras.optimizers.SGD(lr=0.001)\n",
        "model2.compile(\n",
        "    optimizer=optimizer,\n",
        "    loss='mean_squared_error',\n",
        "    metrics=['mean_squared_error'],\n",
        ")\n",
        "\n",
        "history2_t = model2.fit(train, train_labels, epochs=30, batch_size=32)\n"
      ],
      "execution_count": null,
      "outputs": [
        {
          "output_type": "stream",
          "name": "stdout",
          "text": [
            "Epoch 1/30\n"
          ]
        },
        {
          "output_type": "stream",
          "name": "stderr",
          "text": [
            "/usr/local/lib/python3.7/dist-packages/keras/optimizer_v2/optimizer_v2.py:356: UserWarning: The `lr` argument is deprecated, use `learning_rate` instead.\n",
            "  \"The `lr` argument is deprecated, use `learning_rate` instead.\")\n"
          ]
        },
        {
          "output_type": "stream",
          "name": "stdout",
          "text": [
            "29/29 [==============================] - 3s 90ms/step - loss: 1.7232 - mean_squared_error: 1.7232\n",
            "Epoch 2/30\n",
            "29/29 [==============================] - 3s 87ms/step - loss: 1.2901 - mean_squared_error: 1.2901\n",
            "Epoch 3/30\n",
            "29/29 [==============================] - 3s 87ms/step - loss: 1.6545 - mean_squared_error: 1.6545\n",
            "Epoch 4/30\n",
            "29/29 [==============================] - 3s 88ms/step - loss: 1.1567 - mean_squared_error: 1.1567\n",
            "Epoch 5/30\n",
            "29/29 [==============================] - 3s 88ms/step - loss: 0.9996 - mean_squared_error: 0.9996\n",
            "Epoch 6/30\n",
            "29/29 [==============================] - 3s 88ms/step - loss: 1.5678 - mean_squared_error: 1.5678\n",
            "Epoch 7/30\n",
            "29/29 [==============================] - 3s 88ms/step - loss: 1.0456 - mean_squared_error: 1.0456\n",
            "Epoch 8/30\n",
            "29/29 [==============================] - 3s 88ms/step - loss: 1.1569 - mean_squared_error: 1.1569\n",
            "Epoch 9/30\n",
            "29/29 [==============================] - 3s 88ms/step - loss: 0.8543 - mean_squared_error: 0.8543\n",
            "Epoch 10/30\n",
            "29/29 [==============================] - 3s 89ms/step - loss: 0.6796 - mean_squared_error: 0.6796\n",
            "Epoch 11/30\n",
            "29/29 [==============================] - 3s 89ms/step - loss: 0.7716 - mean_squared_error: 0.7716\n",
            "Epoch 12/30\n",
            "29/29 [==============================] - 3s 88ms/step - loss: 0.5886 - mean_squared_error: 0.5886\n",
            "Epoch 13/30\n",
            "29/29 [==============================] - 3s 88ms/step - loss: 0.4706 - mean_squared_error: 0.4706\n",
            "Epoch 14/30\n",
            "29/29 [==============================] - 3s 87ms/step - loss: 1.0481 - mean_squared_error: 1.0481\n",
            "Epoch 15/30\n",
            "29/29 [==============================] - 3s 88ms/step - loss: 0.4655 - mean_squared_error: 0.4655\n",
            "Epoch 16/30\n",
            "29/29 [==============================] - 3s 89ms/step - loss: 1.1924 - mean_squared_error: 1.1924\n",
            "Epoch 17/30\n",
            "29/29 [==============================] - 3s 87ms/step - loss: 0.5045 - mean_squared_error: 0.5045\n",
            "Epoch 18/30\n",
            "29/29 [==============================] - 3s 88ms/step - loss: 0.5213 - mean_squared_error: 0.5213\n",
            "Epoch 19/30\n",
            "29/29 [==============================] - 3s 89ms/step - loss: 0.3883 - mean_squared_error: 0.3883\n",
            "Epoch 20/30\n",
            "29/29 [==============================] - 3s 88ms/step - loss: 0.2555 - mean_squared_error: 0.2555\n",
            "Epoch 21/30\n",
            "29/29 [==============================] - 3s 89ms/step - loss: 0.3285 - mean_squared_error: 0.3285\n",
            "Epoch 22/30\n",
            "29/29 [==============================] - 3s 89ms/step - loss: 0.5385 - mean_squared_error: 0.5385\n",
            "Epoch 23/30\n",
            "29/29 [==============================] - 3s 88ms/step - loss: 0.2193 - mean_squared_error: 0.2193\n",
            "Epoch 24/30\n",
            "29/29 [==============================] - 3s 89ms/step - loss: 0.1777 - mean_squared_error: 0.1777\n",
            "Epoch 25/30\n",
            "29/29 [==============================] - 3s 89ms/step - loss: 0.1510 - mean_squared_error: 0.1510\n",
            "Epoch 26/30\n",
            "29/29 [==============================] - 3s 89ms/step - loss: 0.1258 - mean_squared_error: 0.1258\n",
            "Epoch 27/30\n",
            "29/29 [==============================] - 3s 89ms/step - loss: 0.1531 - mean_squared_error: 0.1531\n",
            "Epoch 28/30\n",
            "29/29 [==============================] - 3s 88ms/step - loss: 0.5730 - mean_squared_error: 0.5730\n",
            "Epoch 29/30\n",
            "29/29 [==============================] - 3s 89ms/step - loss: 0.1306 - mean_squared_error: 0.1306\n",
            "Epoch 30/30\n",
            "29/29 [==============================] - 3s 88ms/step - loss: 0.0914 - mean_squared_error: 0.0914\n"
          ]
        }
      ]
    },
    {
      "cell_type": "markdown",
      "metadata": {
        "id": "idcn3_AEEkeh"
      },
      "source": [
        "## Evaluate the model"
      ]
    },
    {
      "cell_type": "code",
      "metadata": {
        "colab": {
          "base_uri": "https://localhost:8080/"
        },
        "id": "n565Bmb6wda2",
        "outputId": "0d44f6dd-7443-4be1-c649-d6f9b320b1ad"
      },
      "source": [
        "from sklearn.metrics import mean_squared_error\n",
        "\n",
        "Y_pred_l = model2.predict(test)\n",
        "print(\"The MSE loss = \",mean_squared_error(test_labels,Y_pred_l))\n"
      ],
      "execution_count": null,
      "outputs": [
        {
          "output_type": "stream",
          "name": "stdout",
          "text": [
            "The MSE loss =  1.9004994607610373\n"
          ]
        }
      ]
    },
    {
      "cell_type": "code",
      "metadata": {
        "colab": {
          "base_uri": "https://localhost:8080/"
        },
        "id": "tsshy42eW7al",
        "outputId": "fa8ee6fe-f598-4b53-dc2b-338b48cd81a1"
      },
      "source": [
        "from sklearn.metrics import classification_report, confusion_matrix\n",
        "for index,item in enumerate(Y_pred_l):\n",
        "  if item >=0 and item <1:\n",
        "    Y_pred_l[index] = 1  \n",
        "  elif item > 1 and item <= 2:\n",
        "    Y_pred_l[index] = 2\n",
        "  elif item > 2 and item <= 3:\n",
        "    Y_pred_l[index] = 3\n",
        "  elif item > 3 and item <= 4:\n",
        "    Y_pred_l[index] = 4      \n",
        "  elif item > 4:\n",
        "    Y_pred_l[index] = 6\n",
        "\n",
        "print('Confusion Matrix')\n",
        "print(confusion_matrix(test_labels, Y_pred_l))\n",
        "target_names = ['1', '2', '3','4','6']\n",
        "print(classification_report(test_labels, Y_pred_l, target_names=target_names))"
      ],
      "execution_count": null,
      "outputs": [
        {
          "output_type": "stream",
          "name": "stdout",
          "text": [
            "Confusion Matrix\n",
            "[[ 3 12  4  1  0]\n",
            " [ 0 10  9  1  0]\n",
            " [ 0  4  8  3  5]\n",
            " [ 0  2  3  6  9]\n",
            " [ 0  2  3  5 10]]\n",
            "              precision    recall  f1-score   support\n",
            "\n",
            "           1       1.00      0.15      0.26        20\n",
            "           2       0.33      0.50      0.40        20\n",
            "           3       0.30      0.40      0.34        20\n",
            "           4       0.38      0.30      0.33        20\n",
            "           6       0.42      0.50      0.45        20\n",
            "\n",
            "    accuracy                           0.37       100\n",
            "   macro avg       0.48      0.37      0.36       100\n",
            "weighted avg       0.48      0.37      0.36       100\n",
            "\n"
          ]
        }
      ]
    },
    {
      "cell_type": "markdown",
      "metadata": {
        "id": "Nm85Y7RvRA9C"
      },
      "source": [
        "# Learning curves"
      ]
    },
    {
      "cell_type": "code",
      "metadata": {
        "colab": {
          "base_uri": "https://localhost:8080/",
          "height": 295
        },
        "id": "70_0E8yeRA9I",
        "outputId": "c99ff067-0d0e-449b-d268-347d769a4136"
      },
      "source": [
        "plt.plot(history2.history['loss'])\n",
        "plt.plot(history2.history['val_loss'])\n",
        "plt.title('Model loss')\n",
        "plt.ylabel('Loss')\n",
        "plt.xlabel('Epoch')\n",
        "plt.legend(['train', 'val'], loc='upper left')\n",
        "plt.show()\n",
        "\n"
      ],
      "execution_count": null,
      "outputs": [
        {
          "output_type": "display_data",
          "data": {
            "image/png": "[encoded data removed]",
            "text/plain": [
              "<Figure size 432x288 with 1 Axes>"
            ]
          },
          "metadata": {
            "needs_background": "light"
          }
        }
      ]
    },
    {
      "cell_type": "markdown",
      "metadata": {
        "id": "EoPXFhWAVb9n"
      },
      "source": [
        "# Discussion"
      ]
    },
    {
      "cell_type": "markdown",
      "metadata": {
        "id": "i65pK2pAocad"
      },
      "source": [
        "For Question 3.2 / regression network the matric loss is MSE but to compare it with Question 3.1 / classification network I round the results of regression to have a confussion matrix and compare the accuracies. The accuracies and the losses are not perfect. yes the classification network has better accuracy then the regression but still there is an overfitting obivious from the learning curves in the both models. We can see in the learning curves that the accuracy of training data is more than the accuracy of the tesing/validating data and the loss of training data is less than or nearly equal the testing/validating data which mean there is overfitting problem. May be this happened because the training data is very small an the features very complex so the model need more data to learn more."
      ]
    },
    {
      "cell_type": "markdown",
      "metadata": {
        "id": "84sqoQB9FsOD"
      },
      "source": [
        "# Regularization"
      ]
    },
    {
      "cell_type": "code",
      "metadata": {
        "id": "442JMHZKdzQT"
      },
      "source": [
        "\n",
        "tr_class1 = [0]*180\n",
        "tr_class2 = [1]*180\n",
        "tr_class3 = [2]*180\n",
        "tr_class4 = [3]*180\n",
        "tr_class5 = [4]*180\n",
        "\n",
        "train_labels = tr_class1 + tr_class2 + tr_class3 + tr_class4 + tr_class5\n",
        "train_labels = np.array(train_labels)\n",
        "\n",
        "\n",
        "te_class1 = [0]*20\n",
        "te_class2 = [1]*20\n",
        "te_class3 = [2]*20\n",
        "te_class4 = [3]*20\n",
        "te_class5 = [4]*20\n",
        "\n",
        "test_labels = te_class1 + te_class2 + te_class3 + te_class4 + te_class5\n",
        "test_labels = np.array(test_labels)"
      ],
      "execution_count": null,
      "outputs": []
    },
    {
      "cell_type": "code",
      "metadata": {
        "id": "lXdXYfK_Fj_i"
      },
      "source": [
        "from tensorflow.keras import layers, models\n",
        "\n",
        "inputs = tensorflow.keras.Input(shape=(32,32,3))\n",
        "x = model(inputs,training=False)\n",
        "x = tensorflow.keras.layers.Flatten()(x)\n",
        "x = tensorflow.keras.layers.Dense(200, activation='relu')(x)\n",
        "x = tensorflow.keras.layers.Dense(55, input_dim=14, kernel_initializer='uniform')(x)\n",
        "x = tensorflow.keras.layers.BatchNormalization()(x)\n",
        "x = tensorflow.keras.layers.Activation('tanh')(x)\n",
        "x = tensorflow.keras.layers.Dropout(0.5)(x)\n",
        "x = tensorflow.keras.layers.Dense(5, kernel_initializer='uniform')(x)\n",
        "x = tensorflow.keras.layers.BatchNormalization()(x)\n",
        "x = tensorflow.keras.layers.Dense(5, activation='softmax')(x)\n",
        "model = tensorflow.keras.Model(inputs,x)"
      ],
      "execution_count": null,
      "outputs": []
    },
    {
      "cell_type": "code",
      "metadata": {
        "colab": {
          "base_uri": "https://localhost:8080/"
        },
        "id": "jkcknys8Fj_p",
        "outputId": "b7637a12-1bc5-401d-e631-6b47ad197307"
      },
      "source": [
        "model.summary()"
      ],
      "execution_count": null,
      "outputs": [
        {
          "output_type": "stream",
          "name": "stdout",
          "text": [
            "Model: \"model_2\"\n",
            "_________________________________________________________________\n",
            "Layer (type)                 Output Shape              Param #   \n",
            "=================================================================\n",
            "input_5 (InputLayer)         [(None, 32, 32, 3)]       0         \n",
            "_________________________________________________________________\n",
            "model (Functional)           (None, 5)                 1910125   \n",
            "_________________________________________________________________\n",
            "flatten_2 (Flatten)          (None, 5)                 0         \n",
            "_________________________________________________________________\n",
            "dense_7 (Dense)              (None, 200)               1200      \n",
            "_________________________________________________________________\n",
            "dense_8 (Dense)              (None, 55)                11055     \n",
            "_________________________________________________________________\n",
            "batch_normalization (BatchNo (None, 55)                220       \n",
            "_________________________________________________________________\n",
            "activation_2 (Activation)    (None, 55)                0         \n",
            "_________________________________________________________________\n",
            "dropout (Dropout)            (None, 55)                0         \n",
            "_________________________________________________________________\n",
            "dense_9 (Dense)              (None, 5)                 280       \n",
            "_________________________________________________________________\n",
            "batch_normalization_1 (Batch (None, 5)                 20        \n",
            "_________________________________________________________________\n",
            "dense_10 (Dense)             (None, 5)                 30        \n",
            "=================================================================\n",
            "Total params: 1,922,930\n",
            "Trainable params: 1,662,650\n",
            "Non-trainable params: 260,280\n",
            "_________________________________________________________________\n"
          ]
        }
      ]
    },
    {
      "cell_type": "markdown",
      "metadata": {
        "id": "C0KixDugFj_p"
      },
      "source": [
        "# Train model"
      ]
    },
    {
      "cell_type": "code",
      "metadata": {
        "colab": {
          "base_uri": "https://localhost:8080/"
        },
        "id": "pCth2Vf8Fj_p",
        "outputId": "2420f01b-d568-4d67-e0c9-3cdeb6981e3e"
      },
      "source": [
        "from tensorflow.keras.callbacks import EarlyStopping\n",
        "optimizer = tensorflow.keras.optimizers.SGD(lr=0.001)\n",
        "model.compile(\n",
        "    optimizer=optimizer,\n",
        "    loss='sparse_categorical_crossentropy',\n",
        "    metrics=['accuracy'],\n",
        ")\n",
        "from sklearn.model_selection import train_test_split\n",
        "X_train, X_val, y_train, y_val = train_test_split(train, train_labels, test_size=0.33, random_state=42,stratify=train_labels)\n",
        "\n",
        "\n",
        "history = model.fit(X_train, y_train, epochs=30, batch_size=32,validation_data=(X_val,y_val))\n"
      ],
      "execution_count": null,
      "outputs": [
        {
          "output_type": "stream",
          "name": "stdout",
          "text": [
            "Epoch 1/30\n"
          ]
        },
        {
          "output_type": "stream",
          "name": "stderr",
          "text": [
            "/usr/local/lib/python3.7/dist-packages/keras/optimizer_v2/optimizer_v2.py:356: UserWarning: The `lr` argument is deprecated, use `learning_rate` instead.\n",
            "  \"The `lr` argument is deprecated, use `learning_rate` instead.\")\n"
          ]
        },
        {
          "output_type": "stream",
          "name": "stdout",
          "text": [
            "19/19 [==============================] - 3s 146ms/step - loss: 1.4249 - accuracy: 0.3914 - val_loss: 1.6070 - val_accuracy: 0.1919\n",
            "Epoch 2/30\n",
            "19/19 [==============================] - 3s 135ms/step - loss: 1.1600 - accuracy: 0.5390 - val_loss: 1.6050 - val_accuracy: 0.3939\n",
            "Epoch 3/30\n",
            "19/19 [==============================] - 3s 137ms/step - loss: 1.0091 - accuracy: 0.6252 - val_loss: 1.6035 - val_accuracy: 0.4478\n",
            "Epoch 4/30\n",
            "19/19 [==============================] - 3s 134ms/step - loss: 0.9332 - accuracy: 0.6899 - val_loss: 1.6017 - val_accuracy: 0.5522\n",
            "Epoch 5/30\n",
            "19/19 [==============================] - 3s 136ms/step - loss: 0.9207 - accuracy: 0.7015 - val_loss: 1.5991 - val_accuracy: 0.6532\n",
            "Epoch 6/30\n",
            "19/19 [==============================] - 3s 135ms/step - loss: 0.8661 - accuracy: 0.7512 - val_loss: 1.5971 - val_accuracy: 0.6061\n",
            "Epoch 7/30\n",
            "19/19 [==============================] - 3s 135ms/step - loss: 0.8185 - accuracy: 0.8060 - val_loss: 1.5933 - val_accuracy: 0.6801\n",
            "Epoch 8/30\n",
            "19/19 [==============================] - 3s 135ms/step - loss: 0.8026 - accuracy: 0.8159 - val_loss: 1.5895 - val_accuracy: 0.6902\n",
            "Epoch 9/30\n",
            "19/19 [==============================] - 3s 135ms/step - loss: 0.7530 - accuracy: 0.8441 - val_loss: 1.5845 - val_accuracy: 0.6936\n",
            "Epoch 10/30\n",
            "19/19 [==============================] - 3s 136ms/step - loss: 0.7409 - accuracy: 0.8574 - val_loss: 1.5823 - val_accuracy: 0.6229\n",
            "Epoch 11/30\n",
            "19/19 [==============================] - 3s 136ms/step - loss: 0.7600 - accuracy: 0.8408 - val_loss: 1.5728 - val_accuracy: 0.6936\n",
            "Epoch 12/30\n",
            "19/19 [==============================] - 3s 134ms/step - loss: 0.7161 - accuracy: 0.8939 - val_loss: 1.5641 - val_accuracy: 0.7138\n",
            "Epoch 13/30\n",
            "19/19 [==============================] - 3s 136ms/step - loss: 0.6842 - accuracy: 0.9038 - val_loss: 1.5547 - val_accuracy: 0.7138\n",
            "Epoch 14/30\n",
            "19/19 [==============================] - 3s 136ms/step - loss: 0.6787 - accuracy: 0.9005 - val_loss: 1.5436 - val_accuracy: 0.7037\n",
            "Epoch 15/30\n",
            "19/19 [==============================] - 3s 136ms/step - loss: 0.6376 - accuracy: 0.9303 - val_loss: 1.5313 - val_accuracy: 0.7138\n",
            "Epoch 16/30\n",
            "19/19 [==============================] - 3s 135ms/step - loss: 0.6211 - accuracy: 0.9353 - val_loss: 1.5194 - val_accuracy: 0.7104\n",
            "Epoch 17/30\n",
            "19/19 [==============================] - 3s 137ms/step - loss: 0.6157 - accuracy: 0.9453 - val_loss: 1.5056 - val_accuracy: 0.7037\n",
            "Epoch 18/30\n",
            "19/19 [==============================] - 2s 133ms/step - loss: 0.5926 - accuracy: 0.9569 - val_loss: 1.4808 - val_accuracy: 0.7306\n",
            "Epoch 19/30\n",
            "19/19 [==============================] - 3s 138ms/step - loss: 0.5832 - accuracy: 0.9635 - val_loss: 1.4642 - val_accuracy: 0.7003\n",
            "Epoch 20/30\n",
            "19/19 [==============================] - 3s 135ms/step - loss: 0.5669 - accuracy: 0.9652 - val_loss: 1.4417 - val_accuracy: 0.7071\n",
            "Epoch 21/30\n",
            "19/19 [==============================] - 3s 136ms/step - loss: 0.5503 - accuracy: 0.9784 - val_loss: 1.4170 - val_accuracy: 0.7071\n",
            "Epoch 22/30\n",
            "19/19 [==============================] - 3s 136ms/step - loss: 0.5590 - accuracy: 0.9668 - val_loss: 1.3979 - val_accuracy: 0.7037\n",
            "Epoch 23/30\n",
            "19/19 [==============================] - 3s 136ms/step - loss: 0.5446 - accuracy: 0.9701 - val_loss: 1.3676 - val_accuracy: 0.6936\n",
            "Epoch 24/30\n",
            "19/19 [==============================] - 3s 135ms/step - loss: 0.5307 - accuracy: 0.9818 - val_loss: 1.3464 - val_accuracy: 0.6869\n",
            "Epoch 25/30\n",
            "19/19 [==============================] - 3s 136ms/step - loss: 0.5236 - accuracy: 0.9867 - val_loss: 1.3071 - val_accuracy: 0.7205\n",
            "Epoch 26/30\n",
            "19/19 [==============================] - 3s 134ms/step - loss: 0.5194 - accuracy: 0.9801 - val_loss: 1.2783 - val_accuracy: 0.7172\n",
            "Epoch 27/30\n",
            "19/19 [==============================] - 3s 136ms/step - loss: 0.5117 - accuracy: 0.9884 - val_loss: 1.2447 - val_accuracy: 0.7306\n",
            "Epoch 28/30\n",
            "19/19 [==============================] - 3s 135ms/step - loss: 0.5162 - accuracy: 0.9851 - val_loss: 1.2263 - val_accuracy: 0.7071\n",
            "Epoch 29/30\n",
            "19/19 [==============================] - 2s 132ms/step - loss: 0.4997 - accuracy: 0.9917 - val_loss: 1.1807 - val_accuracy: 0.7306\n",
            "Epoch 30/30\n",
            "19/19 [==============================] - 3s 136ms/step - loss: 0.4907 - accuracy: 0.9934 - val_loss: 1.1554 - val_accuracy: 0.7172\n"
          ]
        }
      ]
    },
    {
      "cell_type": "markdown",
      "metadata": {
        "id": "hKT83JMyceTc"
      },
      "source": [
        "## Model evaluation using training data"
      ]
    },
    {
      "cell_type": "code",
      "metadata": {
        "colab": {
          "base_uri": "https://localhost:8080/"
        },
        "id": "jQHVahaZcdrt",
        "outputId": "ae579942-49ce-486e-9bd7-9e0f8ef107ce"
      },
      "source": [
        "from sklearn.metrics import classification_report, confusion_matrix\n",
        "Y_train_pred = np.argmax(model.predict(X_train),axis=1)\n",
        "print('Confusion Matrix')\n",
        "print(confusion_matrix(y_train, Y_train_pred))"
      ],
      "execution_count": null,
      "outputs": [
        {
          "output_type": "stream",
          "name": "stdout",
          "text": [
            "Confusion Matrix\n",
            "[[120   0   0   0   0]\n",
            " [  0 121   0   0   0]\n",
            " [  0   0 121   0   0]\n",
            " [  0   1   0 119   0]\n",
            " [  1   0   0   0 120]]\n"
          ]
        }
      ]
    },
    {
      "cell_type": "markdown",
      "metadata": {
        "id": "Y8gLT9q1Fj_p"
      },
      "source": [
        "## Model evaluation using validation data"
      ]
    },
    {
      "cell_type": "code",
      "metadata": {
        "colab": {
          "base_uri": "https://localhost:8080/"
        },
        "id": "8AYhQdDEFj_p",
        "outputId": "75e0ff0c-005e-4052-baa1-824e0b71baa2"
      },
      "source": [
        "from sklearn.metrics import classification_report, confusion_matrix\n",
        "Y_val_pred = np.argmax(model.predict(X_val),axis=1)\n",
        "print('Confusion Matrix')\n",
        "print(confusion_matrix(y_val, Y_val_pred))\n",
        "print('Classification Report')\n",
        "target_names = ['1', '2', '3','4','6']\n",
        "print(classification_report(y_val, Y_val_pred, target_names=target_names))"
      ],
      "execution_count": null,
      "outputs": [
        {
          "output_type": "stream",
          "name": "stdout",
          "text": [
            "Confusion Matrix\n",
            "[[48  0  8  0  4]\n",
            " [ 1 43 12  2  1]\n",
            " [ 1  7 41 10  0]\n",
            " [ 0  7  4 38 11]\n",
            " [ 1  0  4 11 43]]\n",
            "Classification Report\n",
            "              precision    recall  f1-score   support\n",
            "\n",
            "           1       0.94      0.80      0.86        60\n",
            "           2       0.75      0.73      0.74        59\n",
            "           3       0.59      0.69      0.64        59\n",
            "           4       0.62      0.63      0.63        60\n",
            "           6       0.73      0.73      0.73        59\n",
            "\n",
            "    accuracy                           0.72       297\n",
            "   macro avg       0.73      0.72      0.72       297\n",
            "weighted avg       0.73      0.72      0.72       297\n",
            "\n"
          ]
        }
      ]
    },
    {
      "cell_type": "code",
      "metadata": {
        "colab": {
          "base_uri": "https://localhost:8080/"
        },
        "id": "mKPWIZbbFj_p",
        "outputId": "cace94e1-be67-4894-a145-d56abac1c3d2"
      },
      "source": [
        "optimizer = tensorflow.keras.optimizers.SGD(lr=0.001)\n",
        "model.compile(\n",
        "    optimizer=optimizer,\n",
        "    loss='sparse_categorical_crossentropy',\n",
        "    metrics=['accuracy'],\n",
        ")\n",
        "\n",
        "\n",
        "history_t = model.fit(train, train_labels, epochs=30, batch_size=32)\n"
      ],
      "execution_count": null,
      "outputs": [
        {
          "output_type": "stream",
          "name": "stdout",
          "text": [
            "Epoch 1/30\n"
          ]
        },
        {
          "output_type": "stream",
          "name": "stderr",
          "text": [
            "/usr/local/lib/python3.7/dist-packages/keras/optimizer_v2/optimizer_v2.py:356: UserWarning: The `lr` argument is deprecated, use `learning_rate` instead.\n",
            "  \"The `lr` argument is deprecated, use `learning_rate` instead.\")\n"
          ]
        },
        {
          "output_type": "stream",
          "name": "stdout",
          "text": [
            "29/29 [==============================] - 3s 88ms/step - loss: 0.6919 - accuracy: 0.8589\n",
            "Epoch 2/30\n",
            "29/29 [==============================] - 3s 88ms/step - loss: 0.6382 - accuracy: 0.8833\n",
            "Epoch 3/30\n",
            "29/29 [==============================] - 3s 89ms/step - loss: 0.6785 - accuracy: 0.8700\n",
            "Epoch 4/30\n",
            "29/29 [==============================] - 3s 88ms/step - loss: 0.6336 - accuracy: 0.8911\n",
            "Epoch 5/30\n",
            "29/29 [==============================] - 3s 88ms/step - loss: 0.5770 - accuracy: 0.9222\n",
            "Epoch 6/30\n",
            "29/29 [==============================] - 3s 88ms/step - loss: 0.5948 - accuracy: 0.9011\n",
            "Epoch 7/30\n",
            "29/29 [==============================] - 3s 88ms/step - loss: 0.5956 - accuracy: 0.9156\n",
            "Epoch 8/30\n",
            "29/29 [==============================] - 3s 88ms/step - loss: 0.5353 - accuracy: 0.9389\n",
            "Epoch 9/30\n",
            "29/29 [==============================] - 3s 87ms/step - loss: 0.5263 - accuracy: 0.9522\n",
            "Epoch 10/30\n",
            "29/29 [==============================] - 3s 88ms/step - loss: 0.5592 - accuracy: 0.9278\n",
            "Epoch 11/30\n",
            "29/29 [==============================] - 3s 88ms/step - loss: 0.5860 - accuracy: 0.9111\n",
            "Epoch 12/30\n",
            "29/29 [==============================] - 3s 88ms/step - loss: 0.4605 - accuracy: 0.9756\n",
            "Epoch 13/30\n",
            "29/29 [==============================] - 3s 88ms/step - loss: 0.4372 - accuracy: 0.9856\n",
            "Epoch 14/30\n",
            "29/29 [==============================] - 3s 88ms/step - loss: 0.4420 - accuracy: 0.9800\n",
            "Epoch 15/30\n",
            "29/29 [==============================] - 3s 88ms/step - loss: 0.5206 - accuracy: 0.9333\n",
            "Epoch 16/30\n",
            "29/29 [==============================] - 3s 89ms/step - loss: 0.4296 - accuracy: 0.9778\n",
            "Epoch 17/30\n",
            "29/29 [==============================] - 3s 87ms/step - loss: 0.4176 - accuracy: 0.9856\n",
            "Epoch 18/30\n",
            "29/29 [==============================] - 3s 88ms/step - loss: 0.3961 - accuracy: 0.9922\n",
            "Epoch 19/30\n",
            "29/29 [==============================] - 3s 88ms/step - loss: 0.3953 - accuracy: 0.9900\n",
            "Epoch 20/30\n",
            "29/29 [==============================] - 3s 89ms/step - loss: 0.3958 - accuracy: 0.9900\n",
            "Epoch 21/30\n",
            "29/29 [==============================] - 3s 88ms/step - loss: 0.3868 - accuracy: 0.9867\n",
            "Epoch 22/30\n",
            "29/29 [==============================] - 3s 89ms/step - loss: 0.3817 - accuracy: 0.9922\n",
            "Epoch 23/30\n",
            "29/29 [==============================] - 3s 88ms/step - loss: 0.3929 - accuracy: 0.9867\n",
            "Epoch 24/30\n",
            "29/29 [==============================] - 3s 89ms/step - loss: 0.3677 - accuracy: 0.9900\n",
            "Epoch 25/30\n",
            "29/29 [==============================] - 3s 88ms/step - loss: 0.3668 - accuracy: 0.9944\n",
            "Epoch 26/30\n",
            "29/29 [==============================] - 3s 88ms/step - loss: 0.3609 - accuracy: 0.9922\n",
            "Epoch 27/30\n",
            "29/29 [==============================] - 3s 88ms/step - loss: 0.3571 - accuracy: 0.9967\n",
            "Epoch 28/30\n",
            "29/29 [==============================] - 3s 88ms/step - loss: 0.3474 - accuracy: 0.9967\n",
            "Epoch 29/30\n",
            "29/29 [==============================] - 3s 89ms/step - loss: 0.3440 - accuracy: 0.9944\n",
            "Epoch 30/30\n",
            "29/29 [==============================] - 3s 88ms/step - loss: 0.3348 - accuracy: 0.9911\n"
          ]
        }
      ]
    },
    {
      "cell_type": "markdown",
      "metadata": {
        "id": "4UcBOzKYFj_p"
      },
      "source": [
        "## Model evaluation using testing data"
      ]
    },
    {
      "cell_type": "code",
      "metadata": {
        "colab": {
          "base_uri": "https://localhost:8080/"
        },
        "id": "AucQtUQMFj_q",
        "outputId": "75b71986-a6ab-4942-f084-80ac92ed341b"
      },
      "source": [
        "\n",
        "Y_pred = np.argmax(model.predict(test),axis=1)\n",
        "print('Confusion Matrix')\n",
        "print(confusion_matrix(test_labels, Y_pred))\n",
        "print('Classification Report')\n",
        "target_names = ['1', '2', '3','4','6']\n",
        "print(classification_report(test_labels, Y_pred, target_names=target_names))\n"
      ],
      "execution_count": null,
      "outputs": [
        {
          "output_type": "stream",
          "name": "stdout",
          "text": [
            "Confusion Matrix\n",
            "[[ 6  5  5  1  3]\n",
            " [ 2 12  5  0  1]\n",
            " [ 1  3 10  5  1]\n",
            " [ 1  7  6  4  2]\n",
            " [ 3  4  3  7  3]]\n",
            "Classification Report\n",
            "              precision    recall  f1-score   support\n",
            "\n",
            "           1       0.46      0.30      0.36        20\n",
            "           2       0.39      0.60      0.47        20\n",
            "           3       0.34      0.50      0.41        20\n",
            "           4       0.24      0.20      0.22        20\n",
            "           6       0.30      0.15      0.20        20\n",
            "\n",
            "    accuracy                           0.35       100\n",
            "   macro avg       0.35      0.35      0.33       100\n",
            "weighted avg       0.35      0.35      0.33       100\n",
            "\n"
          ]
        }
      ]
    },
    {
      "cell_type": "markdown",
      "metadata": {
        "id": "wHOeTEoqFj_q"
      },
      "source": [
        "# Learning curves"
      ]
    },
    {
      "cell_type": "code",
      "metadata": {
        "colab": {
          "base_uri": "https://localhost:8080/",
          "height": 295
        },
        "id": "RqMRHhOQFj_q",
        "outputId": "8014ce56-7859-40c2-de3e-aa175667116f"
      },
      "source": [
        "import matplotlib.pyplot as plt\n",
        "\n",
        "k = ''\n",
        "if 'accuracy' in history.history :\n",
        "    k = 'accuracy'    \n",
        "\n",
        "if 'acc' in history.history :\n",
        "    k = 'acc'\n",
        "    \n",
        "if k != '' :    \n",
        "    plt.plot(history.history[k])\n",
        "    plt.plot(history.history['val_'+k])\n",
        "    plt.title('Model Accuracy')\n",
        "    plt.ylabel('Accuracy')\n",
        "    plt.xlabel('Epoch')\n",
        "    plt.legend(['train', 'val'], loc='upper left')\n",
        "    plt.show()\n"
      ],
      "execution_count": null,
      "outputs": [
        {
          "output_type": "display_data",
          "data": {
            "image/png": "[encoded data removed]",
            "text/plain": [
              "<Figure size 432x288 with 1 Axes>"
            ]
          },
          "metadata": {
            "needs_background": "light"
          }
        }
      ]
    },
    {
      "cell_type": "code",
      "metadata": {
        "colab": {
          "base_uri": "https://localhost:8080/",
          "height": 295
        },
        "id": "sHRIFwIgFj_q",
        "outputId": "f26f17fe-a10d-4efe-e4e5-e81f053ec122"
      },
      "source": [
        "plt.plot(history.history['loss'])\n",
        "plt.plot(history.history['val_loss'])\n",
        "plt.title('Model loss')\n",
        "plt.ylabel('Loss')\n",
        "plt.xlabel('Epoch')\n",
        "plt.legend(['train', 'val'], loc='upper left')\n",
        "plt.show()\n",
        "\n"
      ],
      "execution_count": null,
      "outputs": [
        {
          "output_type": "display_data",
          "data": {
            "image/png": "[encoded data removed]",
            "text/plain": [
              "<Figure size 432x288 with 1 Axes>"
            ]
          },
          "metadata": {
            "needs_background": "light"
          }
        }
      ]
    },
    {
      "cell_type": "markdown",
      "metadata": {
        "id": "k1iT9I7d3Tz_"
      },
      "source": [
        "# Data augmentation"
      ]
    },
    {
      "cell_type": "code",
      "metadata": {
        "colab": {
          "base_uri": "https://localhost:8080/"
        },
        "id": "KSyTm42c3XZC",
        "outputId": "a53b7400-f962-4e5c-8ae4-785d50ed8798"
      },
      "source": [
        "from keras.preprocessing.image import ImageDataGenerator\n",
        "\n",
        "aug = ImageDataGenerator(\n",
        "\t\trotation_range=20,\n",
        "\t\tzoom_range=0.15,\n",
        "\t\twidth_shift_range=0.2,\n",
        "\t\theight_shift_range=0.2,\n",
        "\t\tshear_range=0.15,\n",
        "\t\thorizontal_flip=True,\n",
        "\t\tfill_mode=\"nearest\")\n",
        "\n",
        "history3 = model.fit(x=aug.flow(X_train, y_train, batch_size=32), epochs=30, batch_size=32,validation_data=(X_val,y_val))\n",
        "\n"
      ],
      "execution_count": null,
      "outputs": [
        {
          "output_type": "stream",
          "name": "stdout",
          "text": [
            "Epoch 1/30\n",
            "19/19 [==============================] - 3s 154ms/step - loss: 1.7971 - accuracy: 0.3532 - val_loss: 1.2924 - val_accuracy: 0.4949\n",
            "Epoch 2/30\n",
            "19/19 [==============================] - 3s 145ms/step - loss: 1.6724 - accuracy: 0.3831 - val_loss: 2.3209 - val_accuracy: 0.2357\n",
            "Epoch 3/30\n",
            "19/19 [==============================] - 3s 145ms/step - loss: 1.5657 - accuracy: 0.3433 - val_loss: 1.7436 - val_accuracy: 0.2694\n",
            "Epoch 4/30\n",
            "19/19 [==============================] - 3s 144ms/step - loss: 1.5156 - accuracy: 0.3615 - val_loss: 1.9219 - val_accuracy: 0.2525\n",
            "Epoch 5/30\n",
            "19/19 [==============================] - 3s 144ms/step - loss: 1.5487 - accuracy: 0.3599 - val_loss: 1.6860 - val_accuracy: 0.2862\n",
            "Epoch 6/30\n",
            "19/19 [==============================] - 3s 145ms/step - loss: 1.5423 - accuracy: 0.3599 - val_loss: 1.6469 - val_accuracy: 0.2727\n",
            "Epoch 7/30\n",
            "19/19 [==============================] - 3s 145ms/step - loss: 1.5392 - accuracy: 0.3267 - val_loss: 1.5260 - val_accuracy: 0.2828\n",
            "Epoch 8/30\n",
            "19/19 [==============================] - 3s 145ms/step - loss: 1.4589 - accuracy: 0.3765 - val_loss: 1.2592 - val_accuracy: 0.4512\n",
            "Epoch 9/30\n",
            "19/19 [==============================] - 3s 145ms/step - loss: 1.4528 - accuracy: 0.4146 - val_loss: 1.4793 - val_accuracy: 0.3569\n",
            "Epoch 10/30\n",
            "19/19 [==============================] - 3s 145ms/step - loss: 1.4476 - accuracy: 0.3881 - val_loss: 1.3544 - val_accuracy: 0.4040\n",
            "Epoch 11/30\n",
            "19/19 [==============================] - 3s 145ms/step - loss: 1.4378 - accuracy: 0.3864 - val_loss: 1.4435 - val_accuracy: 0.3569\n",
            "Epoch 12/30\n",
            "19/19 [==============================] - 3s 145ms/step - loss: 1.4601 - accuracy: 0.3615 - val_loss: 1.4726 - val_accuracy: 0.3502\n",
            "Epoch 13/30\n",
            "19/19 [==============================] - 3s 145ms/step - loss: 1.4072 - accuracy: 0.3980 - val_loss: 1.3985 - val_accuracy: 0.3973\n",
            "Epoch 14/30\n",
            "19/19 [==============================] - 3s 145ms/step - loss: 1.4170 - accuracy: 0.4046 - val_loss: 1.2823 - val_accuracy: 0.5084\n",
            "Epoch 15/30\n",
            "19/19 [==============================] - 3s 143ms/step - loss: 1.4106 - accuracy: 0.4229 - val_loss: 1.2480 - val_accuracy: 0.4983\n",
            "Epoch 16/30\n",
            "19/19 [==============================] - 3s 145ms/step - loss: 1.4290 - accuracy: 0.3947 - val_loss: 1.2401 - val_accuracy: 0.5152\n",
            "Epoch 17/30\n",
            "19/19 [==============================] - 3s 145ms/step - loss: 1.4184 - accuracy: 0.3914 - val_loss: 1.2747 - val_accuracy: 0.4310\n",
            "Epoch 18/30\n",
            "19/19 [==============================] - 3s 145ms/step - loss: 1.4277 - accuracy: 0.4096 - val_loss: 1.3570 - val_accuracy: 0.4175\n",
            "Epoch 19/30\n",
            "19/19 [==============================] - 3s 144ms/step - loss: 1.4023 - accuracy: 0.4179 - val_loss: 1.3003 - val_accuracy: 0.4377\n",
            "Epoch 20/30\n",
            "19/19 [==============================] - 3s 145ms/step - loss: 1.3930 - accuracy: 0.4378 - val_loss: 1.3364 - val_accuracy: 0.4175\n",
            "Epoch 21/30\n",
            "19/19 [==============================] - 3s 145ms/step - loss: 1.3849 - accuracy: 0.3980 - val_loss: 1.1424 - val_accuracy: 0.5421\n",
            "Epoch 22/30\n",
            "19/19 [==============================] - 3s 145ms/step - loss: 1.3688 - accuracy: 0.4395 - val_loss: 1.3364 - val_accuracy: 0.4141\n",
            "Epoch 23/30\n",
            "19/19 [==============================] - 3s 145ms/step - loss: 1.3571 - accuracy: 0.4212 - val_loss: 1.2327 - val_accuracy: 0.4343\n",
            "Epoch 24/30\n",
            "19/19 [==============================] - 3s 145ms/step - loss: 1.3391 - accuracy: 0.4129 - val_loss: 1.1599 - val_accuracy: 0.5690\n",
            "Epoch 25/30\n",
            "19/19 [==============================] - 3s 145ms/step - loss: 1.3777 - accuracy: 0.3847 - val_loss: 1.2162 - val_accuracy: 0.4882\n",
            "Epoch 26/30\n",
            "19/19 [==============================] - 3s 147ms/step - loss: 1.3855 - accuracy: 0.3831 - val_loss: 1.1272 - val_accuracy: 0.5589\n",
            "Epoch 27/30\n",
            "19/19 [==============================] - 3s 144ms/step - loss: 1.2897 - accuracy: 0.4643 - val_loss: 1.1065 - val_accuracy: 0.5859\n",
            "Epoch 28/30\n",
            "19/19 [==============================] - 3s 146ms/step - loss: 1.3617 - accuracy: 0.4096 - val_loss: 1.1514 - val_accuracy: 0.4848\n",
            "Epoch 29/30\n",
            "19/19 [==============================] - 3s 144ms/step - loss: 1.3687 - accuracy: 0.4146 - val_loss: 1.4849 - val_accuracy: 0.4040\n",
            "Epoch 30/30\n",
            "19/19 [==============================] - 3s 145ms/step - loss: 1.3166 - accuracy: 0.4627 - val_loss: 1.1201 - val_accuracy: 0.4815\n"
          ]
        }
      ]
    },
    {
      "cell_type": "markdown",
      "metadata": {
        "id": "YU6r-OOkcyvT"
      },
      "source": [
        "## Model evaluation using training data"
      ]
    },
    {
      "cell_type": "code",
      "metadata": {
        "colab": {
          "base_uri": "https://localhost:8080/"
        },
        "id": "0029J-zRcyvZ",
        "outputId": "b9399b3e-6a8e-4a26-9b25-8a56e2ff82ad"
      },
      "source": [
        "from sklearn.metrics import classification_report, confusion_matrix\n",
        "Y_train_pred = np.argmax(model.predict(X_train),axis=1)\n",
        "print('Confusion Matrix')\n",
        "print(confusion_matrix(y_train, Y_train_pred))"
      ],
      "execution_count": null,
      "outputs": [
        {
          "output_type": "stream",
          "name": "stdout",
          "text": [
            "Confusion Matrix\n",
            "[[114   0   0   2   4]\n",
            " [ 21  56  14  13  17]\n",
            " [ 15  13  17  43  33]\n",
            " [  3   0   1  63  53]\n",
            " [  6   1   0  13 101]]\n"
          ]
        }
      ]
    },
    {
      "cell_type": "markdown",
      "metadata": {
        "id": "FusGycalbIYS"
      },
      "source": [
        "## Model evaluation using validation data"
      ]
    },
    {
      "cell_type": "code",
      "metadata": {
        "colab": {
          "base_uri": "https://localhost:8080/"
        },
        "id": "wfo_kk9zbIYT",
        "outputId": "4e921076-3627-420b-e8ac-272a03092c01"
      },
      "source": [
        "from sklearn.metrics import classification_report, confusion_matrix\n",
        "Y_val_pred = np.argmax(model.predict(X_val),axis=1)\n",
        "print('Confusion Matrix')\n",
        "print(confusion_matrix(y_val, Y_val_pred))\n",
        "print('Classification Report')\n",
        "target_names = ['1', '2', '3','4','6']\n",
        "print(classification_report(y_val, Y_val_pred, target_names=target_names))"
      ],
      "execution_count": null,
      "outputs": [
        {
          "output_type": "stream",
          "name": "stdout",
          "text": [
            "Confusion Matrix\n",
            "[[55  1  1  0  3]\n",
            " [13 21 10  8  7]\n",
            " [13  9  3 21 13]\n",
            " [ 1  2  0 16 41]\n",
            " [ 2  1  0  8 48]]\n",
            "Classification Report\n",
            "              precision    recall  f1-score   support\n",
            "\n",
            "           1       0.65      0.92      0.76        60\n",
            "           2       0.62      0.36      0.45        59\n",
            "           3       0.21      0.05      0.08        59\n",
            "           4       0.30      0.27      0.28        60\n",
            "           6       0.43      0.81      0.56        59\n",
            "\n",
            "    accuracy                           0.48       297\n",
            "   macro avg       0.44      0.48      0.43       297\n",
            "weighted avg       0.44      0.48      0.43       297\n",
            "\n"
          ]
        }
      ]
    },
    {
      "cell_type": "code",
      "metadata": {
        "colab": {
          "base_uri": "https://localhost:8080/"
        },
        "id": "fvHrRnUibIYT",
        "outputId": "6aab6a01-27f1-42de-832f-a1dc2972dda3"
      },
      "source": [
        "optimizer = tensorflow.keras.optimizers.SGD(lr=0.001)\n",
        "model.compile(\n",
        "    optimizer=optimizer,\n",
        "    loss='sparse_categorical_crossentropy',\n",
        "    metrics=['accuracy'],\n",
        ")\n",
        "\n",
        "\n",
        "history3_t = model.fit(x=aug.flow(train,train_labels, batch_size=32), epochs=30, batch_size=32)\n"
      ],
      "execution_count": null,
      "outputs": [
        {
          "output_type": "stream",
          "name": "stdout",
          "text": [
            "Epoch 1/30\n"
          ]
        },
        {
          "output_type": "stream",
          "name": "stderr",
          "text": [
            "/usr/local/lib/python3.7/dist-packages/keras/optimizer_v2/optimizer_v2.py:356: UserWarning: The `lr` argument is deprecated, use `learning_rate` instead.\n",
            "  \"The `lr` argument is deprecated, use `learning_rate` instead.\")\n"
          ]
        },
        {
          "output_type": "stream",
          "name": "stdout",
          "text": [
            "29/29 [==============================] - 4s 97ms/step - loss: 1.3744 - accuracy: 0.4144\n",
            "Epoch 2/30\n",
            "29/29 [==============================] - 3s 96ms/step - loss: 1.3268 - accuracy: 0.4378\n",
            "Epoch 3/30\n",
            "29/29 [==============================] - 3s 97ms/step - loss: 1.3214 - accuracy: 0.4511\n",
            "Epoch 4/30\n",
            "29/29 [==============================] - 3s 96ms/step - loss: 1.3253 - accuracy: 0.4300\n",
            "Epoch 5/30\n",
            "29/29 [==============================] - 3s 96ms/step - loss: 1.3386 - accuracy: 0.4311\n",
            "Epoch 6/30\n",
            "29/29 [==============================] - 3s 97ms/step - loss: 1.3265 - accuracy: 0.4333\n",
            "Epoch 7/30\n",
            "29/29 [==============================] - 3s 95ms/step - loss: 1.3049 - accuracy: 0.4378\n",
            "Epoch 8/30\n",
            "29/29 [==============================] - 3s 97ms/step - loss: 1.3275 - accuracy: 0.4189\n",
            "Epoch 9/30\n",
            "29/29 [==============================] - 3s 96ms/step - loss: 1.2996 - accuracy: 0.4578\n",
            "Epoch 10/30\n",
            "29/29 [==============================] - 3s 97ms/step - loss: 1.3029 - accuracy: 0.4633\n",
            "Epoch 11/30\n",
            "29/29 [==============================] - 3s 96ms/step - loss: 1.2958 - accuracy: 0.4489\n",
            "Epoch 12/30\n",
            "29/29 [==============================] - 3s 97ms/step - loss: 1.2963 - accuracy: 0.4678\n",
            "Epoch 13/30\n",
            "29/29 [==============================] - 3s 97ms/step - loss: 1.2881 - accuracy: 0.4633\n",
            "Epoch 14/30\n",
            "29/29 [==============================] - 3s 97ms/step - loss: 1.3052 - accuracy: 0.4678\n",
            "Epoch 15/30\n",
            "29/29 [==============================] - 3s 95ms/step - loss: 1.2757 - accuracy: 0.4689\n",
            "Epoch 16/30\n",
            "29/29 [==============================] - 3s 97ms/step - loss: 1.3149 - accuracy: 0.4289\n",
            "Epoch 17/30\n",
            "29/29 [==============================] - 3s 98ms/step - loss: 1.2990 - accuracy: 0.4644\n",
            "Epoch 18/30\n",
            "29/29 [==============================] - 3s 98ms/step - loss: 1.2799 - accuracy: 0.4600\n",
            "Epoch 19/30\n",
            "29/29 [==============================] - 3s 98ms/step - loss: 1.2448 - accuracy: 0.4833\n",
            "Epoch 20/30\n",
            "29/29 [==============================] - 3s 97ms/step - loss: 1.2522 - accuracy: 0.4933\n",
            "Epoch 21/30\n",
            "29/29 [==============================] - 3s 97ms/step - loss: 1.2631 - accuracy: 0.4567\n",
            "Epoch 22/30\n",
            "29/29 [==============================] - 3s 97ms/step - loss: 1.2682 - accuracy: 0.4644\n",
            "Epoch 23/30\n",
            "29/29 [==============================] - 3s 96ms/step - loss: 1.2577 - accuracy: 0.4822\n",
            "Epoch 24/30\n",
            "29/29 [==============================] - 3s 97ms/step - loss: 1.2673 - accuracy: 0.4833\n",
            "Epoch 25/30\n",
            "29/29 [==============================] - 3s 96ms/step - loss: 1.2285 - accuracy: 0.4833\n",
            "Epoch 26/30\n",
            "29/29 [==============================] - 3s 97ms/step - loss: 1.2346 - accuracy: 0.4689\n",
            "Epoch 27/30\n",
            "29/29 [==============================] - 3s 97ms/step - loss: 1.2567 - accuracy: 0.4722\n",
            "Epoch 28/30\n",
            "29/29 [==============================] - 3s 97ms/step - loss: 1.2503 - accuracy: 0.4600\n",
            "Epoch 29/30\n",
            "29/29 [==============================] - 3s 97ms/step - loss: 1.2422 - accuracy: 0.4811\n",
            "Epoch 30/30\n",
            "29/29 [==============================] - 3s 97ms/step - loss: 1.2445 - accuracy: 0.4733\n"
          ]
        }
      ]
    },
    {
      "cell_type": "markdown",
      "metadata": {
        "id": "JxYOM0QAalpg"
      },
      "source": [
        "## Model evaluation using testing data"
      ]
    },
    {
      "cell_type": "code",
      "metadata": {
        "colab": {
          "base_uri": "https://localhost:8080/"
        },
        "id": "EKXAZVmvalpg",
        "outputId": "8a15dc4e-c3f0-476a-9cfd-b6ab693b0936"
      },
      "source": [
        "\n",
        "Y_pred = np.argmax(model.predict(test),axis=1)\n",
        "print('Confusion Matrix')\n",
        "print(confusion_matrix(test_labels, Y_pred))\n",
        "print('Classification Report')\n",
        "target_names = ['1', '2', '3','4','6']\n",
        "print(classification_report(test_labels, Y_pred, target_names=target_names))\n"
      ],
      "execution_count": null,
      "outputs": [
        {
          "output_type": "stream",
          "name": "stdout",
          "text": [
            "Confusion Matrix\n",
            "[[ 9  8  0  2  1]\n",
            " [ 3 11  4  1  1]\n",
            " [ 0  7  3  9  1]\n",
            " [ 1  2  2 11  4]\n",
            " [ 1  2  0  9  8]]\n",
            "Classification Report\n",
            "              precision    recall  f1-score   support\n",
            "\n",
            "           1       0.64      0.45      0.53        20\n",
            "           2       0.37      0.55      0.44        20\n",
            "           3       0.33      0.15      0.21        20\n",
            "           4       0.34      0.55      0.42        20\n",
            "           6       0.53      0.40      0.46        20\n",
            "\n",
            "    accuracy                           0.42       100\n",
            "   macro avg       0.44      0.42      0.41       100\n",
            "weighted avg       0.44      0.42      0.41       100\n",
            "\n"
          ]
        }
      ]
    },
    {
      "cell_type": "markdown",
      "metadata": {
        "id": "x1JgN8r5alpg"
      },
      "source": [
        "# Learning curves"
      ]
    },
    {
      "cell_type": "code",
      "metadata": {
        "colab": {
          "base_uri": "https://localhost:8080/",
          "height": 295
        },
        "id": "aN-vKru2alpg",
        "outputId": "8809af38-1c4d-456f-801a-00b62bc02984"
      },
      "source": [
        "import matplotlib.pyplot as plt\n",
        "\n",
        "k = ''\n",
        "if 'accuracy' in history3.history :\n",
        "    k = 'accuracy'    \n",
        "\n",
        "if 'acc' in history3.history :\n",
        "    k = 'acc'\n",
        "    \n",
        "if k != '' :    \n",
        "    plt.plot(history3.history[k])\n",
        "    plt.plot(history3.history['val_'+k])\n",
        "    plt.title('Model Accuracy')\n",
        "    plt.ylabel('Accuracy')\n",
        "    plt.xlabel('Epoch')\n",
        "    plt.legend(['train', 'val'], loc='upper left')\n",
        "    plt.show()\n"
      ],
      "execution_count": null,
      "outputs": [
        {
          "output_type": "display_data",
          "data": {
            "image/png": "[encoded data removed]",
            "text/plain": [
              "<Figure size 432x288 with 1 Axes>"
            ]
          },
          "metadata": {
            "needs_background": "light"
          }
        }
      ]
    },
    {
      "cell_type": "code",
      "metadata": {
        "colab": {
          "base_uri": "https://localhost:8080/",
          "height": 295
        },
        "id": "Nxa2gonJalpg",
        "outputId": "26caead1-2f12-41f7-9ffe-2258ab425137"
      },
      "source": [
        "plt.plot(history3.history['loss'])\n",
        "plt.plot(history3.history['val_loss'])\n",
        "plt.title('Model loss')\n",
        "plt.ylabel('Loss')\n",
        "plt.xlabel('Epoch')\n",
        "plt.legend(['train', 'val'], loc='upper left')\n",
        "plt.show()\n",
        "\n"
      ],
      "execution_count": null,
      "outputs": [
        {
          "output_type": "display_data",
          "data": {
            "image/png": "[encoded data removed]",
            "text/plain": [
              "<Figure size 432x288 with 1 Axes>"
            ]
          },
          "metadata": {
            "needs_background": "light"
          }
        }
      ]
    },
    {
      "cell_type": "markdown",
      "metadata": {
        "id": "N3dfIteJbjK2"
      },
      "source": [
        "# Discussion"
      ]
    },
    {
      "cell_type": "markdown",
      "metadata": {
        "id": "ayTGvtT-CY2H"
      },
      "source": [
        "The learning curves are become better after regrularization and augmantion. The validation curve become more nearset to the training curve so the the overfit decrease. Beacuse the regrulaization decrease the model weights so the model will not ovrfit and the augmantation increase the learning data which make many forms of each image in the training data so the model learn more from these different forms. The accuracy of the validating data become more larger from around 30% to more than 40% so the both techniques do a very well job and enchance the learning."
      ]
    }
  ]
}